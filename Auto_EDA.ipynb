{
 "cells": [
  {
   "cell_type": "code",
   "execution_count": null,
   "id": "b548b860",
   "metadata": {},
   "outputs": [],
   "source": [
    "import pandas as pd\n",
    "import requests\n",
    "from io import StringIO\n",
    "import matplotlib.pyplot as plt\n",
    "import seaborn as sns"
   ]
  },
  {
   "cell_type": "code",
   "execution_count": null,
   "id": "d80ff092",
   "metadata": {},
   "outputs": [],
   "source": [
    "def download_dataset(url):\n",
    "    response = requests.get(url)\n",
    "    if response.status_code == 200:\n",
    "        return response.text\n",
    "    else:\n",
    "        raise ValueError(\"فشل تنزيل ملف البيانات\")\n"
   ]
  },
  {
   "cell_type": "code",
   "execution_count": null,
   "id": "74fcaf68",
   "metadata": {},
   "outputs": [],
   "source": [
    "def read_dataset(data, file_type):\n",
    "    if file_type == \"csv\":\n",
    "        dataset = pd.read_csv(StringIO(data))\n",
    "    elif file_type == \"excel\":\n",
    "        dataset = pd.read_excel(StringIO(data))\n",
    "    elif file_type == \"sql\":\n",
    "        # اكتب هنا الكود الخاص بقراءة من قاعدة بيانات SQL\n",
    "        pass\n",
    "    else:\n",
    "        raise ValueError(\"نوع الملف غير معترف به\")\n",
    "        return dataset\n"
   ]
  },
  {
   "cell_type": "code",
   "execution_count": null,
   "id": "b25369d9",
   "metadata": {},
   "outputs": [],
   "source": [
    "def infer_column_types(dataset):\n",
    "    column_types = dataset.dtypes\n",
    "    return column_types"
   ]
  },
  {
   "cell_type": "code",
   "execution_count": null,
   "id": "ac561920",
   "metadata": {},
   "outputs": [],
   "source": [
    "def handle_missing_values(dataset):\n",
    "    for column in dataset.columns:\n",
    "        if dataset[column].dtype == 'float64':\n",
    "            # قم بتعبئة القيم المفقودة في البيانات المستمرة بالوسط الحسابي\n",
    "            dataset[column].fillna(dataset[column].mean(), inplace=True)\n",
    "        elif dataset[column].dtype == 'int64':\n",
    "            # قم بتعبئة القيم المفقودة في البيانات المنفصلة بالمنوال\n",
    "            dataset[column].fillna(dataset[column].mode()[0], inplace=True)"
   ]
  },
  {
   "cell_type": "code",
   "execution_count": null,
   "id": "603435a7",
   "metadata": {},
   "outputs": [],
   "source": [
    "def visualize_data(data, column_name, plot_type):\n",
    "    plt.figure(figsize=(10, 6))  # تحديد حجم الشكل\n",
    "    \n",
    "    if plot_type == 'histogram':\n",
    "        # عمل هستوغرام للبيانات\n",
    "        sns.histplot(data[column_name], kde=True)\n",
    "        plt.title(f'هستوغرام لعمود {column_name}')\n",
    "        plt.xlabel(column_name)\n",
    "        plt.ylabel('التكرارات')\n",
    "    elif plot_type == 'box':\n",
    "        # عمل بوكس بلوت للبيانات\n",
    "        sns.boxplot(x=data[column_name])\n",
    "        plt.title(f'بوكس بلوت لعمود {column_name}')\n",
    "        plt.xlabel(column_name)\n",
    "    elif plot_type == 'scatter':\n",
    "        # عمل سكاتر بلوت لبيانات اثنين من الأعمدة\n",
    "        # يجب توفير اسمي العمودين كمدخلات إضافية\n",
    "        x_column, y_column = column_name.split(',')\n",
    "        sns.scatterplot(data=data, x=x_column, y=y_column)\n",
    "        plt.title(f'سكاتر بلوت لأعمدة {x_column} و{y_column}')\n",
    "        plt.xlabel(x_column)\n",
    "        plt.ylabel(y_column)\n",
    "    elif plot_type == 'bar':\n",
    "        # عمل بار شارت للبيانات\n",
    "        sns.countplot(data=data, x=column_name)\n",
    "        plt.title(f'بار شارت لعمود {column_name}')\n",
    "        plt.xlabel(column_name)\n",
    "        plt.ylabel('التكرارات')\n",
    "\n",
    "    plt.show()\n"
   ]
  },
  {
   "cell_type": "code",
   "execution_count": null,
   "id": "d6fac898",
   "metadata": {},
   "outputs": [],
   "source": [
    "def visualize_all_features(data):\n",
    "    for feature in data.columns:\n",
    "        visualize_data(data, feature, 'histogram')  # هستوغرام\n",
    "        visualize_data(data, feature, 'box')       # بوكس بلوت\n",
    "        visualize_data(data, feature, 'scatter')   # سكاتر بلوت\n",
    "        visualize_data(data, feature, 'bar')       # بار شارت\n"
   ]
  },
  {
   "cell_type": "code",
   "execution_count": null,
   "id": "60ca22e2",
   "metadata": {},
   "outputs": [],
   "source": [
    "\n",
    "def main():\n",
    "    \n",
    "        # ضع رابط مباشر إلى ملف البيانات الذي ترغب في قراءته هنا\n",
    "        dataset_url = 'https://www.kaggle.com/parulpandey/us-international-air-traffic-data/download/data'\n",
    "\n",
    "        try:\n",
    "            data = download_dataset(dataset_url)\n",
    "            dataset = read_dataset(data, 'csv')\n",
    "            print(\"مجموعة البيانات:\")\n",
    "            print(dataset)\n",
    "\n",
    "            column_types = infer_column_types(dataset)\n",
    "            print(\"أنواع الأعمدة:\")\n",
    "            print(column_types)\n",
    "\n",
    "            handle_missing_values(dataset)  # فحص ومعالجة القيم المفقودة\n",
    "            print(\"مجموعة البيانات بعد معالجة القيم المفقودة:\")\n",
    "            print(dataset)\n",
    "\n",
    "            # قم بعرض التصورات البيانية لجميع السمات\n",
    "            visualize_all_features(dataset)\n",
    "\n",
    "        except ValueError as e:\n",
    "            print(e)\n",
    "        except Exception as e:\n",
    "            print(\"حدث خطأ أثناء تنزيل أو قراءة الملف:\", e)\n",
    "\n",
    "    if __name__ == \"__main__\":\n",
    "    main()\n"
   ]
  }
 ],
 "metadata": {
  "kernelspec": {
   "display_name": "Python 3 (ipykernel)",
   "language": "python",
   "name": "python3"
  },
  "language_info": {
   "codemirror_mode": {
    "name": "ipython",
    "version": 3
   },
   "file_extension": ".py",
   "mimetype": "text/x-python",
   "name": "python",
   "nbconvert_exporter": "python",
   "pygments_lexer": "ipython3",
   "version": "3.9.13"
  }
 },
 "nbformat": 4,
 "nbformat_minor": 5
}
